{
 "cells": [
  {
   "cell_type": "markdown",
   "id": "84c54429-bbe3-47bc-8a4d-52722341157d",
   "metadata": {
    "tags": []
   },
   "source": [
    "# Data Science Tools and Ecosystem"
   ]
  },
  {
   "cell_type": "markdown",
   "id": "92c33600-0279-4982-920a-9e393bcb4878",
   "metadata": {},
   "source": [
    "This notebook provides an overview of data science, including data science languages, libraries, and tools."
   ]
  },
  {
   "cell_type": "markdown",
   "id": "a9b18620-4c34-46a5-b8bb-50961ebb95e5",
   "metadata": {},
   "source": [
    "This is some popular languages used in Data Science:\n",
    "    1. python\n",
    "    2. SQL\n",
    "    3. R\n",
    "    4. Java and C++ etc...\n",
    "    "
   ]
  },
  {
   "cell_type": "markdown",
   "id": "67f39208-1cec-496d-9ca5-d26aad226de4",
   "metadata": {},
   "source": [
    "the commonly used libraries include by Data Science:\n",
    "1. Numpy\n",
    "2. pandas\n",
    "3. Scipy\n",
    "4.TensorFlow\n",
    "5.Keras\n",
    "6.Matplotlib\n",
    "7.pyTorch\n",
    "8.Scikit-Learn etc..."
   ]
  },
  {
   "cell_type": "markdown",
   "id": "99205946-1a61-46f1-89f7-74bdfba5fdb1",
   "metadata": {},
   "source": [
    "| Tool | Description |\n",
    "|------|-------------|\n",
    "| Jupyter Notebook | An open-source web application that allows you to create and share documents that contain live code, equations, visualizations, and narrative text. |\n",
    "| pandas | A software library written for the Python programming language for data manipulation and analysis. |\n",
    "| Matplotlib | A plotting library for the Python programming language and its numerical mathematics extension NumPy. |\n",
    "| Seaborn | A statistical data visualization library based on matplotlib. |\n",
    "| Plotly | An interactive, open-source graphing library for Python. |\n",
    "| Bokeh | An interactive visualization library for Python that targets modern web browsers. |"
   ]
  },
  {
   "cell_type": "markdown",
   "id": "c9c9b039-9f87-4e28-9d37-0346ad25a1fd",
   "metadata": {},
   "source": [
    "### Let's explore some arithmetic expression examples:"
   ]
  },
  {
   "cell_type": "code",
   "execution_count": 2,
   "id": "2d9adecc-2488-4d0d-8291-26abf24d03d5",
   "metadata": {
    "tags": []
   },
   "outputs": [
    {
     "data": {
      "text/plain": [
       "24"
      ]
     },
     "execution_count": 2,
     "metadata": {},
     "output_type": "execute_result"
    }
   ],
   "source": [
    "#thise is arithmetic example to multiply:\n",
    "(2*6)+12"
   ]
  },
  {
   "cell_type": "code",
   "execution_count": 3,
   "id": "bf80ac26-a877-4ac1-a1ed-5aa7d279d894",
   "metadata": {},
   "outputs": [
    {
     "data": {
      "text/plain": [
       "6.666666666666667"
      ]
     },
     "execution_count": 3,
     "metadata": {},
     "output_type": "execute_result"
    }
   ],
   "source": [
    "# now this will convert 400 minutes to hours by diving 60:\n",
    "400/60"
   ]
  },
  {
   "cell_type": "markdown",
   "id": "7a31d2fc-a672-4e7f-8d12-2b4dc2cab6ad",
   "metadata": {
    "tags": []
   },
   "source": [
    "__Objective__\n",
    "\n",
    "- Introduction to data science\n",
    "- Overview of data science languages and libraries\n",
    "- Exploration of arithmetic expression examples\n"
   ]
  },
  {
   "cell_type": "markdown",
   "id": "642490d6-4b29-4182-b1fa-8bf429c1a58a",
   "metadata": {},
   "source": [
    "## Author: Al-zabidi"
   ]
  }
 ],
 "metadata": {
  "kernelspec": {
   "display_name": "Python",
   "language": "python",
   "name": "conda-env-python-py"
  },
  "language_info": {
   "codemirror_mode": {
    "name": "ipython",
    "version": 3
   },
   "file_extension": ".py",
   "mimetype": "text/x-python",
   "name": "python",
   "nbconvert_exporter": "python",
   "pygments_lexer": "ipython3",
   "version": "3.7.12"
  }
 },
 "nbformat": 4,
 "nbformat_minor": 5
}
